{
 "cells": [
  {
   "cell_type": "markdown",
   "id": "ac42c2b1",
   "metadata": {},
   "source": [
    "### Rules for naming the variables"
   ]
  },
  {
   "cell_type": "code",
   "execution_count": null,
   "id": "4a345aa0",
   "metadata": {},
   "outputs": [],
   "source": [
    "x=5\n",
    "x"
   ]
  },
  {
   "cell_type": "code",
   "execution_count": null,
   "id": "d2ab5585",
   "metadata": {},
   "outputs": [],
   "source": [
    "samplenames=\"Aditya\",\"Anand\",\"Abishek\"\n",
    "samplenames"
   ]
  },
  {
   "cell_type": "code",
   "execution_count": null,
   "id": "5d66d329",
   "metadata": {},
   "outputs": [],
   "source": [
    "sample names=\"Aditya\",\"Anand\",\"Abishek\"\n",
    "sample names"
   ]
  },
  {
   "cell_type": "markdown",
   "id": "490d7375",
   "metadata": {},
   "source": [
    "##### Space is not allowed"
   ]
  },
  {
   "cell_type": "code",
   "execution_count": null,
   "id": "ef1b132b",
   "metadata": {},
   "outputs": [],
   "source": [
    "sample_names=\"Aditya\",\"Anand\",\"Abishek\"\n",
    "sample_names"
   ]
  },
  {
   "cell_type": "code",
   "execution_count": null,
   "id": "df10e844",
   "metadata": {},
   "outputs": [],
   "source": [
    "3names=\"Aditya\",\"Anand\",\"Abishek\"\n",
    "3names"
   ]
  },
  {
   "cell_type": "code",
   "execution_count": null,
   "id": "c34aea5d",
   "metadata": {},
   "outputs": [],
   "source": [
    "names3=\"Aditya\",\"Anand\",\"Abishek\"\n",
    "names3"
   ]
  },
  {
   "cell_type": "code",
   "execution_count": null,
   "id": "0ca7696c",
   "metadata": {},
   "outputs": [],
   "source": [
    "n3ames=\"Aditya\",\"Anand\",\"Abishek\"\n",
    "n3ames"
   ]
  },
  {
   "cell_type": "markdown",
   "id": "faab6b05",
   "metadata": {},
   "source": [
    "##### variable name should not start with a number"
   ]
  },
  {
   "cell_type": "code",
   "execution_count": null,
   "id": "cd1903cb",
   "metadata": {},
   "outputs": [],
   "source": [
    "names=\"Aditya\",\"Anand\",\"Abishek\"\n",
    "Names"
   ]
  },
  {
   "cell_type": "markdown",
   "id": "d9610556",
   "metadata": {},
   "source": [
    "##### Case sensitive"
   ]
  },
  {
   "cell_type": "code",
   "execution_count": null,
   "id": "76ca46d4",
   "metadata": {},
   "outputs": [],
   "source": [
    "_names=\"Aditya\",\"Anand\",\"Abishek\"\n",
    "_names"
   ]
  },
  {
   "cell_type": "code",
   "execution_count": null,
   "id": "f3d1d2f1",
   "metadata": {},
   "outputs": [],
   "source": [
    "Names=\"Aditya\",\"Anand\",\"Abishek\"\n",
    "Names"
   ]
  },
  {
   "cell_type": "code",
   "execution_count": null,
   "id": "1c4a7713",
   "metadata": {},
   "outputs": [],
   "source": [
    "names=\"Aditya\",\"Anand\",\"Abishek\"\n",
    "names"
   ]
  },
  {
   "cell_type": "code",
   "execution_count": null,
   "id": "8eea1f4c",
   "metadata": {},
   "outputs": [],
   "source": [
    "sample+names=\"Aditya\",\"Anand\",\"Abishek\"\n",
    "sample+names"
   ]
  },
  {
   "cell_type": "markdown",
   "id": "0fdda5b8",
   "metadata": {},
   "source": [
    "##### The only allowed special character is underscore\n",
    "##### Variable names should start with A-Z,a-z or_"
   ]
  },
  {
   "cell_type": "code",
   "execution_count": null,
   "id": "9b61b0f4",
   "metadata": {},
   "outputs": [],
   "source": []
  }
 ],
 "metadata": {
  "kernelspec": {
   "display_name": "Python 3 (ipykernel)",
   "language": "python",
   "name": "python3"
  },
  "language_info": {
   "codemirror_mode": {
    "name": "ipython",
    "version": 3
   },
   "file_extension": ".py",
   "mimetype": "text/x-python",
   "name": "python",
   "nbconvert_exporter": "python",
   "pygments_lexer": "ipython3",
   "version": "3.9.12"
  }
 },
 "nbformat": 4,
 "nbformat_minor": 5
}
